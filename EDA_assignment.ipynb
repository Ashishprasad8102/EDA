{
 "cells": [
  {
   "cell_type": "code",
   "execution_count": null,
   "id": "06f68fb0-fd1b-4b59-afbf-89596f0497aa",
   "metadata": {},
   "outputs": [],
   "source": [
    "1> In a wine quality dataset, the key features often include:\n",
    "\n",
    "Fixed acidity: Represents the concentration of non-volatile acids in the wine. It plays a role in the wine\n",
    "'s taste and stability.\n",
    "\n",
    "Volatile acidity: Indicates the presence of volatile acids in the wine, which can contribute to a sour taste\n",
    "if too high.\n",
    "\n",
    "Citric acid: Presents in small quantities in wines and can add a refreshing quality to the taste.\n",
    "\n",
    "Residual sugar: Refers to the amount of sugar left after fermentation, affecting the wine's sweetness.\n",
    "\n",
    "Chlorides: Indicates the amount of salts in the wine, which can impact the wine's taste and mouthfeel.\n",
    "\n",
    "Free sulfur dioxide: Sulfur dioxide is added to wines as a preservative and antioxidant, and its free form \n",
    "affects the wine's stability.\n",
    "\n",
    "Total sulfur dioxide: The total amount of sulfur dioxide in the wine, which can impact its aroma and preservation.\n",
    "\n",
    "Density: Represents the density of the wine and can give insights into its alcohol content.\n",
    "\n",
    "pH: Measures the acidity or basicity of the wine, which affects its taste and stability.\n",
    "\n",
    "Sulphates: Sulfates are a byproduct of fermentation and can contribute to the wine's preservation.\n",
    "\n",
    "Alcohol: The alcohol content of the wine, which influences its body and perceived quality.\n",
    "\n",
    "Quality (target variable): This is the feature that represents the overall quality of the wine, usually \n",
    "rated by experts or consumers\n",
    "\n",
    "The importance of each feature in predicting the quality of wine can vary depending on the dataset and the \n",
    "specific model used. Generally, features like volatile acidity, citric acid, residual sugar, and alcohol\n",
    "tend to have a significant impact on wine quality. Too much volatile acidity can lead to unpleasant flavors,\n",
    "while higher alcohol content is usually associated with better wine quality"
   ]
  },
  {
   "cell_type": "code",
   "execution_count": null,
   "id": "d22d6a55-4782-4138-8f0b-0ac763ff39d0",
   "metadata": {},
   "outputs": [],
   "source": [
    "2>Deletion of Rows/Columns (Listwise Deletion):\n",
    "\n",
    "Advantage: Simple and straightforward approach. It removes the missing data and allows the model to be \n",
    "trained on complete cases.\n",
    "\n",
    "Disadvantage: It can lead to a significant loss of data, reducing the sample size and potentially affecting \n",
    "the model's performance if the missing data is not missing completely at random (MCAR).\n",
    "\n",
    "Mean/Median Imputation:\n",
    "\n",
    "Advantage: Filling missing values with the mean or median of the observed data is easy to implement and \n",
    "does not alter the overall distribution of the feature significantly.\n",
    "\n",
    "Disadvantage: It can introduce bias and underestimate the variability in the data since it ignores the\n",
    "relationships between variables.\n",
    "\n",
    "\n",
    "Mode Imputation:\n",
    "\n",
    "Advantage: Useful for categorical data where taking the mean or median is not applicable.\n",
    "Disadvantage: Similar to mean/median imputation, it may introduce bias in the dataset and not accurately \n",
    "represent the true distribution.\n",
    "\n",
    "Forward/Backward Fill:\n",
    "\n",
    "Advantage: Suitable for time-series data where missing values can be filled using the last known value \n",
    "(forward fill) or the next known value (backward fill).\n",
    "\n",
    "Disadvantage: It might not be appropriate for non-time-series data, and it can propagate errors if the data \n",
    "has significant variations.\n"
   ]
  },
  {
   "cell_type": "code",
   "execution_count": null,
   "id": "c9a628af-79d6-4e94-a4a3-cddceeae65e5",
   "metadata": {},
   "outputs": [],
   "source": [
    "3>"
   ]
  },
  {
   "cell_type": "code",
   "execution_count": null,
   "id": "d7265c3b-163c-48fc-bcc8-15ea37743ea4",
   "metadata": {},
   "outputs": [],
   "source": []
  },
  {
   "cell_type": "code",
   "execution_count": null,
   "id": "a451ff40-c679-4dd7-8553-e82c0655098e",
   "metadata": {},
   "outputs": [],
   "source": []
  },
  {
   "cell_type": "code",
   "execution_count": null,
   "id": "061970c8-51d1-41a3-98c6-59796bc32512",
   "metadata": {},
   "outputs": [],
   "source": []
  },
  {
   "cell_type": "code",
   "execution_count": null,
   "id": "1a5f6e8c-4623-4092-b81b-928181d3a198",
   "metadata": {},
   "outputs": [],
   "source": []
  }
 ],
 "metadata": {
  "kernelspec": {
   "display_name": "Python 3 (ipykernel)",
   "language": "python",
   "name": "python3"
  },
  "language_info": {
   "codemirror_mode": {
    "name": "ipython",
    "version": 3
   },
   "file_extension": ".py",
   "mimetype": "text/x-python",
   "name": "python",
   "nbconvert_exporter": "python",
   "pygments_lexer": "ipython3",
   "version": "3.10.8"
  }
 },
 "nbformat": 4,
 "nbformat_minor": 5
}
